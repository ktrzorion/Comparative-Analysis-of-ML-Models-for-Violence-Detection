{
  "nbformat": 4,
  "nbformat_minor": 0,
  "metadata": {
    "colab": {
      "provenance": [],
      "gpuType": "T4"
    },
    "kernelspec": {
      "name": "python3",
      "display_name": "Python 3"
    },
    "language_info": {
      "name": "python"
    },
    "accelerator": "GPU"
  },
  "cells": [
    {
      "cell_type": "code",
      "execution_count": null,
      "metadata": {
        "id": "4gyx4LVlJWWi"
      },
      "outputs": [],
      "source": [
        "import gdown\n",
        "import zipfile"
      ]
    },
    {
      "cell_type": "code",
      "source": [
        "from google.colab import drive\n",
        "drive.mount('/content/drive')"
      ],
      "metadata": {
        "colab": {
          "base_uri": "https://localhost:8080/"
        },
        "id": "3NtF7ooIJ_-O",
        "outputId": "5bd8f512-6c3b-4d15-a17b-60ff396e5db1"
      },
      "execution_count": null,
      "outputs": [
        {
          "output_type": "stream",
          "name": "stdout",
          "text": [
            "Mounted at /content/drive\n"
          ]
        }
      ]
    },
    {
      "cell_type": "code",
      "source": [
        "# Replace 'YOUR_FILE_ID' with your Google Drive file ID\n",
        "file_id = '14HnAWe3ZiZP8qlUcdASZZIFkX2kYoCN_'\n",
        "\n",
        "# Check sharing settings\n",
        "gdown.download(\"https://drive.usercontent.google.com/download?id=14HnAWe3ZiZP8qlUcdASZZIFkX2kYoCN_&export=download&authuser=0&confirm=t&uuid=66e9a259-6328-4a71-aed4-d8d4fe03b34e&at=APZUnTU_y8IjOEAzBe3pWZY1JWT4:1694941568953\" + file_id, quiet=False)"
      ],
      "metadata": {
        "colab": {
          "base_uri": "https://localhost:8080/",
          "height": 148
        },
        "id": "fDo3Az6WKAKo",
        "outputId": "ff44dcbb-5e04-4212-ebaf-ad70475f899a"
      },
      "execution_count": null,
      "outputs": [
        {
          "output_type": "stream",
          "name": "stderr",
          "text": [
            "Downloading...\n",
            "From: https://drive.usercontent.google.com/download?id=14HnAWe3ZiZP8qlUcdASZZIFkX2kYoCN_&export=download&authuser=0&confirm=t&uuid=66e9a259-6328-4a71-aed4-d8d4fe03b34e&at=APZUnTU_y8IjOEAzBe3pWZY1JWT4:169494156895314HnAWe3ZiZP8qlUcdASZZIFkX2kYoCN_\n",
            "To: /content/download?id=14HnAWe3ZiZP8qlUcdASZZIFkX2kYoCN_&export=download&authuser=0&confirm=t&uuid=66e9a259-6328-4a71-aed4-d8d4fe03b34e&at=APZUnTU_y8IjOEAzBe3pWZY1JWT4:169494156895314HnAWe3ZiZP8qlUcdASZZIFkX2kYoCN_\n",
            "100%|██████████| 71.0M/71.0M [00:01<00:00, 43.2MB/s]\n"
          ]
        },
        {
          "output_type": "execute_result",
          "data": {
            "text/plain": [
              "'download?id=14HnAWe3ZiZP8qlUcdASZZIFkX2kYoCN_&export=download&authuser=0&confirm=t&uuid=66e9a259-6328-4a71-aed4-d8d4fe03b34e&at=APZUnTU_y8IjOEAzBe3pWZY1JWT4:169494156895314HnAWe3ZiZP8qlUcdASZZIFkX2kYoCN_'"
            ],
            "application/vnd.google.colaboratory.intrinsic+json": {
              "type": "string"
            }
          },
          "metadata": {},
          "execution_count": 3
        }
      ]
    },
    {
      "cell_type": "code",
      "source": [
        "# Define the file URL (change this to your dataset URL)\n",
        "file_url = 'https://drive.usercontent.google.com/download?id=14HnAWe3ZiZP8qlUcdASZZIFkX2kYoCN_&export=download&authuser=0&confirm=t&uuid=e14d0896-4205-4df8-8044-546af255e003&at=APZUnTWKaBE7PlVLChsSJSwgGBbM:1694323959491'\n",
        "\n",
        "# Define the destination file path\n",
        "output_file = '/content/dataset.zip'  # Change this to your desired destination\n",
        "\n",
        "# Download the file\n",
        "gdown.download(file_url, output_file, quiet=False)\n",
        "\n",
        "# Unzip the file\n",
        "with zipfile.ZipFile(output_file, 'r') as zip_ref:\n",
        "    zip_ref.extractall('/content/')"
      ],
      "metadata": {
        "colab": {
          "base_uri": "https://localhost:8080/"
        },
        "id": "A6RxafB0KHHL",
        "outputId": "3c73ca4f-ced7-4479-f91f-23919fb29af6"
      },
      "execution_count": null,
      "outputs": [
        {
          "output_type": "stream",
          "name": "stderr",
          "text": [
            "Downloading...\n",
            "From: https://drive.usercontent.google.com/download?id=14HnAWe3ZiZP8qlUcdASZZIFkX2kYoCN_&export=download&authuser=0&confirm=t&uuid=e14d0896-4205-4df8-8044-546af255e003&at=APZUnTWKaBE7PlVLChsSJSwgGBbM:1694323959491\n",
            "To: /content/dataset.zip\n",
            "100%|██████████| 71.0M/71.0M [00:00<00:00, 258MB/s]\n"
          ]
        }
      ]
    },
    {
      "cell_type": "code",
      "source": [
        "import numpy as np\n",
        "import pandas as pd\n",
        "import tensorflow as tf\n",
        "from tensorflow.keras.applications import MobileNet\n",
        "from tensorflow.keras.preprocessing.image import ImageDataGenerator\n",
        "from tensorflow.keras.layers import GlobalAveragePooling2D, Dense\n",
        "from tensorflow.keras.models import Model\n",
        "from tensorflow.keras.optimizers import Adam"
      ],
      "metadata": {
        "id": "fCsxguFBKJLf"
      },
      "execution_count": null,
      "outputs": []
    },
    {
      "cell_type": "code",
      "source": [
        "# Define constants\n",
        "IMAGE_SIZE = (224, 224)\n",
        "BATCH_SIZE = 32\n",
        "NUM_CLASSES = 2\n",
        "EPOCHS = 10"
      ],
      "metadata": {
        "id": "3MiIpbQMKvZH"
      },
      "execution_count": null,
      "outputs": []
    },
    {
      "cell_type": "code",
      "source": [
        "# Load and preprocess data\n",
        "train_data = pd.read_csv(\"train/_annotations.csv\")\n",
        "test_data = pd.read_csv(\"test/_annotations.csv\")"
      ],
      "metadata": {
        "id": "VQ47S7bHKwlT"
      },
      "execution_count": null,
      "outputs": []
    },
    {
      "cell_type": "code",
      "source": [
        "train_datagen = ImageDataGenerator(rescale=1./255)\n",
        "test_datagen = ImageDataGenerator(rescale=1./255)"
      ],
      "metadata": {
        "id": "UJQKVkeSMV59"
      },
      "execution_count": null,
      "outputs": []
    },
    {
      "cell_type": "code",
      "source": [
        "train_generator = train_datagen.flow_from_dataframe(\n",
        "    dataframe=train_data,\n",
        "    directory=\"train\",\n",
        "    x_col=\"filename\",\n",
        "    y_col=\"class\",\n",
        "    target_size=IMAGE_SIZE,\n",
        "    batch_size=BATCH_SIZE,\n",
        "    class_mode=\"categorical\"\n",
        ")"
      ],
      "metadata": {
        "colab": {
          "base_uri": "https://localhost:8080/"
        },
        "id": "3pShXrqZKxvK",
        "outputId": "f92f8520-8821-4d7e-875c-109a7f48481d"
      },
      "execution_count": null,
      "outputs": [
        {
          "output_type": "stream",
          "name": "stdout",
          "text": [
            "Found 3364 validated image filenames belonging to 2 classes.\n"
          ]
        }
      ]
    },
    {
      "cell_type": "code",
      "source": [
        "test_generator = test_datagen.flow_from_dataframe(\n",
        "    dataframe=test_data,\n",
        "    directory=\"test\",\n",
        "    x_col=\"filename\",\n",
        "    y_col=\"class\",\n",
        "    target_size=IMAGE_SIZE,\n",
        "    batch_size=BATCH_SIZE,\n",
        "    class_mode=\"categorical\"\n",
        ")"
      ],
      "metadata": {
        "colab": {
          "base_uri": "https://localhost:8080/"
        },
        "id": "b1Rtwn3ILArh",
        "outputId": "ae927a25-78fe-4ae5-8429-9e9c2e2cf8c7"
      },
      "execution_count": null,
      "outputs": [
        {
          "output_type": "stream",
          "name": "stdout",
          "text": [
            "Found 441 validated image filenames belonging to 2 classes.\n"
          ]
        }
      ]
    },
    {
      "cell_type": "code",
      "source": [
        "# Create MobileNet model\n",
        "base_model = MobileNet(input_shape=(224, 224, 3), include_top=False, weights='imagenet')\n",
        "x = GlobalAveragePooling2D()(base_model.output)\n",
        "x = Dense(1024, activation='relu')(x)\n",
        "output = Dense(NUM_CLASSES, activation='softmax')(x)"
      ],
      "metadata": {
        "colab": {
          "base_uri": "https://localhost:8080/"
        },
        "id": "HOF09RHwLB5H",
        "outputId": "3fc7ab59-3694-4f99-cedd-ee3e0a51e885"
      },
      "execution_count": null,
      "outputs": [
        {
          "output_type": "stream",
          "name": "stdout",
          "text": [
            "Downloading data from https://storage.googleapis.com/tensorflow/keras-applications/mobilenet/mobilenet_1_0_224_tf_no_top.h5\n",
            "17225924/17225924 [==============================] - 0s 0us/step\n"
          ]
        }
      ]
    },
    {
      "cell_type": "code",
      "source": [
        "model = Model(inputs=base_model.input, outputs=output)"
      ],
      "metadata": {
        "id": "A3jLe8xILGwe"
      },
      "execution_count": null,
      "outputs": []
    },
    {
      "cell_type": "code",
      "source": [
        "# Compile the model\n",
        "model.compile(optimizer=Adam(lr=0.0001), loss='categorical_crossentropy', metrics=['accuracy'])"
      ],
      "metadata": {
        "colab": {
          "base_uri": "https://localhost:8080/"
        },
        "id": "06ufRbCoM9GF",
        "outputId": "e1b7c2d4-7b4e-49eb-a048-7e07be470a14"
      },
      "execution_count": null,
      "outputs": [
        {
          "output_type": "stream",
          "name": "stderr",
          "text": [
            "WARNING:absl:`lr` is deprecated in Keras optimizer, please use `learning_rate` or use the legacy optimizer, e.g.,tf.keras.optimizers.legacy.Adam.\n"
          ]
        }
      ]
    },
    {
      "cell_type": "code",
      "source": [
        "# Train the model\n",
        "model.fit(train_generator, validation_data=test_generator, epochs=EPOCHS)"
      ],
      "metadata": {
        "colab": {
          "base_uri": "https://localhost:8080/"
        },
        "id": "txy5nIukM_Ca",
        "outputId": "0769f026-8beb-4697-8284-e45d6195d468"
      },
      "execution_count": null,
      "outputs": [
        {
          "output_type": "stream",
          "name": "stdout",
          "text": [
            "Epoch 1/10\n",
            "106/106 [==============================] - 45s 146ms/step - loss: 0.7343 - accuracy: 0.7117 - val_loss: 0.6104 - val_accuracy: 0.7007\n",
            "Epoch 2/10\n",
            "106/106 [==============================] - 19s 183ms/step - loss: 0.4537 - accuracy: 0.7628 - val_loss: 0.6043 - val_accuracy: 0.6417\n",
            "Epoch 3/10\n",
            "106/106 [==============================] - 26s 246ms/step - loss: 0.4201 - accuracy: 0.7886 - val_loss: 0.4654 - val_accuracy: 0.7664\n",
            "Epoch 4/10\n",
            "106/106 [==============================] - 19s 175ms/step - loss: 0.4124 - accuracy: 0.7854 - val_loss: 0.5331 - val_accuracy: 0.7551\n",
            "Epoch 5/10\n",
            "106/106 [==============================] - 14s 136ms/step - loss: 0.4117 - accuracy: 0.7916 - val_loss: 0.5637 - val_accuracy: 0.6644\n",
            "Epoch 6/10\n",
            "106/106 [==============================] - 14s 135ms/step - loss: 0.3937 - accuracy: 0.7964 - val_loss: 0.4658 - val_accuracy: 0.7596\n",
            "Epoch 7/10\n",
            "106/106 [==============================] - 15s 144ms/step - loss: 0.3913 - accuracy: 0.7958 - val_loss: 0.5477 - val_accuracy: 0.7234\n",
            "Epoch 8/10\n",
            "106/106 [==============================] - 15s 139ms/step - loss: 0.4071 - accuracy: 0.7842 - val_loss: 0.5810 - val_accuracy: 0.7370\n",
            "Epoch 9/10\n",
            "106/106 [==============================] - 16s 150ms/step - loss: 0.3917 - accuracy: 0.7910 - val_loss: 0.7661 - val_accuracy: 0.5261\n",
            "Epoch 10/10\n",
            "106/106 [==============================] - 15s 142ms/step - loss: 0.3748 - accuracy: 0.8053 - val_loss: 0.4308 - val_accuracy: 0.7687\n"
          ]
        },
        {
          "output_type": "execute_result",
          "data": {
            "text/plain": [
              "<keras.src.callbacks.History at 0x7fce41fe9cc0>"
            ]
          },
          "metadata": {},
          "execution_count": 14
        }
      ]
    },
    {
      "cell_type": "code",
      "source": [
        "# Save the model\n",
        "model.save(\"violence_detection_mobilenet.h5\")"
      ],
      "metadata": {
        "colab": {
          "base_uri": "https://localhost:8080/"
        },
        "id": "GYSCFM1ANAgM",
        "outputId": "91ec5f23-4303-47d4-baa1-c56816df576d"
      },
      "execution_count": null,
      "outputs": [
        {
          "output_type": "stream",
          "name": "stderr",
          "text": [
            "/usr/local/lib/python3.10/dist-packages/keras/src/engine/training.py:3000: UserWarning: You are saving your model as an HDF5 file via `model.save()`. This file format is considered legacy. We recommend using instead the native Keras format, e.g. `model.save('my_model.keras')`.\n",
            "  saving_api.save_model(\n"
          ]
        }
      ]
    },
    {
      "cell_type": "code",
      "source": [
        "history = model.fit(train_generator, validation_data=test_generator, epochs=EPOCHS)"
      ],
      "metadata": {
        "colab": {
          "base_uri": "https://localhost:8080/"
        },
        "id": "MtSS1bfXOfzb",
        "outputId": "ed06a059-ff79-4eeb-ff02-8bd76a3dee03"
      },
      "execution_count": null,
      "outputs": [
        {
          "output_type": "stream",
          "name": "stdout",
          "text": [
            "Epoch 1/10\n",
            "106/106 [==============================] - 15s 137ms/step - loss: 0.3722 - accuracy: 0.8011 - val_loss: 0.4972 - val_accuracy: 0.7460\n",
            "Epoch 2/10\n",
            "106/106 [==============================] - 15s 140ms/step - loss: 0.3718 - accuracy: 0.8068 - val_loss: 0.4101 - val_accuracy: 0.7596\n",
            "Epoch 3/10\n",
            "106/106 [==============================] - 15s 138ms/step - loss: 0.3682 - accuracy: 0.8050 - val_loss: 0.7026 - val_accuracy: 0.7370\n",
            "Epoch 4/10\n",
            "106/106 [==============================] - 14s 132ms/step - loss: 0.3711 - accuracy: 0.8014 - val_loss: 0.4822 - val_accuracy: 0.7415\n",
            "Epoch 5/10\n",
            "106/106 [==============================] - 14s 134ms/step - loss: 0.3766 - accuracy: 0.8038 - val_loss: 0.4783 - val_accuracy: 0.7279\n",
            "Epoch 6/10\n",
            "106/106 [==============================] - 14s 132ms/step - loss: 0.3763 - accuracy: 0.8029 - val_loss: 0.6453 - val_accuracy: 0.7642\n",
            "Epoch 7/10\n",
            "106/106 [==============================] - 14s 135ms/step - loss: 0.3665 - accuracy: 0.8023 - val_loss: 0.4921 - val_accuracy: 0.7551\n",
            "Epoch 8/10\n",
            "106/106 [==============================] - 14s 133ms/step - loss: 0.3541 - accuracy: 0.8098 - val_loss: 0.4881 - val_accuracy: 0.7732\n",
            "Epoch 9/10\n",
            "106/106 [==============================] - 14s 135ms/step - loss: 0.3565 - accuracy: 0.8077 - val_loss: 0.4147 - val_accuracy: 0.7755\n",
            "Epoch 10/10\n",
            "106/106 [==============================] - 14s 133ms/step - loss: 0.3560 - accuracy: 0.8098 - val_loss: 0.4300 - val_accuracy: 0.7710\n"
          ]
        }
      ]
    },
    {
      "cell_type": "code",
      "source": [
        "import matplotlib.pyplot as plt\n",
        "\n",
        "# Assuming you have trained your model and stored the training history in a variable history\n",
        "plt.figure(figsize=(12, 4))\n",
        "\n",
        "# Plot training & validation accuracy values\n",
        "plt.subplot(1, 2, 1)\n",
        "plt.plot(history.history['accuracy'])\n",
        "plt.plot(history.history['val_accuracy'])\n",
        "plt.title('Model Accuracy')\n",
        "plt.xlabel('Epoch')\n",
        "plt.ylabel('Accuracy')\n",
        "plt.legend(['Train', 'Validation'], loc='upper left')\n",
        "\n",
        "# Plot training & validation loss values\n",
        "plt.subplot(1, 2, 2)\n",
        "plt.plot(history.history['loss'])\n",
        "plt.plot(history.history['val_loss'])\n",
        "plt.title('Model Loss')\n",
        "plt.xlabel('Epoch')\n",
        "plt.ylabel('Loss')\n",
        "plt.legend(['Train', 'Validation'], loc='upper left')\n",
        "\n",
        "plt.show()\n"
      ],
      "metadata": {
        "colab": {
          "base_uri": "https://localhost:8080/",
          "height": 410
        },
        "id": "qmW9en48Nr8j",
        "outputId": "1ceced4e-07a0-4fb5-d467-6b2d912c8b5b"
      },
      "execution_count": null,
      "outputs": [
        {
          "output_type": "display_data",
          "data": {
            "text/plain": [
              "<Figure size 1200x400 with 2 Axes>"
            ],
            "image/png": "[encoded data removed]"
          },
          "metadata": {}
        }
      ]
    }
  ]
}